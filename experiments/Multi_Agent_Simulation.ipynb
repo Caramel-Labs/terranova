{
 "cells": [
  {
   "cell_type": "code",
   "execution_count": 1,
   "id": "6118de43-b7fa-411c-b153-29058159d39c",
   "metadata": {},
   "outputs": [],
   "source": [
    "import matplotlib.pyplot as plt\n",
    "import numpy as np\n",
    "from mesa import Agent, Model\n",
    "from mesa.space import MultiGrid\n",
    "from mesa.datacollection import DataCollector"
   ]
  },
  {
   "cell_type": "code",
   "execution_count": 2,
   "id": "8d38f5d8-89a0-4667-bb79-b58afd117189",
   "metadata": {},
   "outputs": [],
   "source": [
    "class Miner(Agent):\n",
    "    def __init__(self, model):\n",
    "        super().__init__(model)\n",
    "        self.status = \"mining\"\n",
    "\n",
    "    def step(self):\n",
    "        print(f\"Miner {self.unique_id} is mining resources.\")\n",
    "        # Additional logic for mining behavior\n",
    "\n",
    "class Farmer(Agent):\n",
    "    def __init__(self, model):\n",
    "        super().__init__(model)\n",
    "        self.status = \"farming\"\n",
    "\n",
    "    def step(self):\n",
    "        print(f\"Farmer {self.unique_id} is working in the greenhouse.\")\n",
    "        # Additional logic for farming behavior\n",
    "\n",
    "class Engineer(Agent):\n",
    "    def __init__(self, model):\n",
    "        super().__init__(model)\n",
    "        self.status = \"maintaining\"\n",
    "\n",
    "    def step(self):\n",
    "        print(f\"Engineer {self.unique_id} is checking for maintenance.\")\n",
    "        # Additional logic for maintenance behavior\n",
    "\n",
    "class Drill(Agent):\n",
    "    def __init__(self, model):\n",
    "        super().__init__(model)\n",
    "        self.maintenance_needed = False\n",
    "\n",
    "    def step(self):\n",
    "        print(f\"Drill {self.unique_id} is operating.\")\n",
    "        # Additional logic for drill behavior\n",
    "\n",
    "class Greenhouse(Agent):\n",
    "    def __init__(self, model):\n",
    "        super().__init__(model)\n",
    "        self.maintenance_needed = False\n",
    "\n",
    "    def step(self):\n",
    "        print(f\"Greenhouse {self.unique_id} is growing crops.\")\n",
    "        # Additional logic for greenhouse behavior"
   ]
  },
  {
   "cell_type": "code",
   "execution_count": 4,
   "id": "760fc07a-2a1e-4bd7-bcd6-bbc10a3a8f43",
   "metadata": {},
   "outputs": [
    {
     "ename": "IndentationError",
     "evalue": "unindent does not match any outer indentation level (<tokenize>, line 37)",
     "output_type": "error",
     "traceback": [
      "\u001b[1;36m  File \u001b[1;32m<tokenize>:37\u001b[1;36m\u001b[0m\n\u001b[1;33m    def get_agent_positions(self):\u001b[0m\n\u001b[1;37m    ^\u001b[0m\n\u001b[1;31mIndentationError\u001b[0m\u001b[1;31m:\u001b[0m unindent does not match any outer indentation level\n"
     ]
    }
   ],
   "source": [
    "class SpaceModel(Model):\n",
    "    def __init__(self, width, height):\n",
    "        super().__init__()\n",
    "        self.grid = MultiGrid(width, height, True)\n",
    "        self.datacollector = DataCollector(\n",
    "            agent_reporters={\"Miner_Status\": \"status\", \"Farmer_Status\": \"status\", \"Engineer_Status\": \"status\"}\n",
    "        )\n",
    "        self.custom_agents = []\n",
    "        self.add_agents()\n",
    "\n",
    "    def add_agents(self):\n",
    "        \"\"\"Add all the agents to the model.\"\"\"\n",
    "        # Miner\n",
    "        miner = Miner(self)\n",
    "        self.grid.place_agent(miner, (8, 8))\n",
    "        self.custom_agents.append(miner)\n",
    "        \n",
    "        # Farmer\n",
    "        farmer = Farmer(self)\n",
    "        self.grid.place_agent(farmer, (10, 10))\n",
    "        self.custom_agents.append(farmer)\n",
    "        \n",
    "        # Engineer\n",
    "        engineer = Engineer(self)\n",
    "        self.grid.place_agent(engineer, (12, 12))\n",
    "        self.custom_agents.append(engineer)\n",
    "        \n",
    "        # Add agents to the model's agent set\n",
    "        for agent in self.custom_agents:\n",
    "            self.agents.add(agent)\n",
    "\n",
    "    def step(self):\n",
    "        \"\"\"Advance the model by one step.\"\"\"\n",
    "        self.datacollector.collect(self)  # Collect data at each step\n",
    "        self.agents.do(\"step\")  # Advance each agent\n",
    "\n",
    "   def get_agent_positions(self):\n",
    "    \"\"\"Get agent positions for visualization.\"\"\"\n",
    "    positions = []  # Start the positions list\n",
    "    for agent in self.custom_agents:  # Iterate over the agents\n",
    "        # Retrieve the agent's position using get_agent_position()\n",
    "        pos = self.grid.get_agent_position(agent)\n",
    "        positions.append((agent.__class__.__name__, pos[0], pos[1]))  # Append agent class name and position (x, y)\n",
    "    return positions"
   ]
  },
  {
   "cell_type": "code",
   "execution_count": null,
   "id": "0cc946de-4724-4bdc-bd09-01de9e8c708a",
   "metadata": {},
   "outputs": [],
   "source": [
    "def plot_grid(model):\n",
    "    \"\"\"Plot the grid and agent positions.\"\"\"\n",
    "    grid_size = model.grid.width, model.grid.height\n",
    "    grid = np.zeros(grid_size)  # Create a grid\n",
    "\n",
    "    # Create a color map for agents\n",
    "    agent_colors = {'Miner': 'red', 'Farmer': 'green', 'Engineer': 'blue'}\n",
    "\n",
    "    # Plot agents\n",
    "    positions = model.get_agent_positions()\n",
    "    for agent_name, x, y in positions:\n",
    "        plt.scatter(x, y, c=agent_colors.get(agent_name, 'black'), label=agent_name, s=100)\n",
    "\n",
    "    plt.xlim(-1, grid_size[0])\n",
    "    plt.ylim(-1, grid_size[1])\n",
    "    plt.gca().set_aspect('equal', adjustable='box')  # Equal aspect ratio\n",
    "\n",
    "    # Label axes and add legend\n",
    "    plt.xlabel('X position')\n",
    "    plt.ylabel('Y position')\n",
    "    plt.legend()\n",
    "    plt.title('Agent Positions')\n",
    "    plt.grid(True)\n",
    "    plt.show()"
   ]
  },
  {
   "cell_type": "code",
   "execution_count": null,
   "id": "ae4b607d-9f1f-470c-afbc-c3f75aeb829c",
   "metadata": {},
   "outputs": [],
   "source": [
    "# Create an instance of the model\n",
    "model = SpaceModel(width=20, height=20)"
   ]
  },
  {
   "cell_type": "code",
   "execution_count": null,
   "id": "bbdd11db-17bd-437c-b54f-33487e5406b9",
   "metadata": {},
   "outputs": [],
   "source": [
    "# Run the model and visualize the agents\n",
    "def run_and_visualize(model, steps=5):\n",
    "    \"\"\"Run the model for a specified number of steps and visualize the grid.\"\"\"\n",
    "    for _ in range(steps):\n",
    "        model.step()  # Advance the simulation by one step\n",
    "        plot_grid(model)  # Plot the grid and agent positions after each step"
   ]
  },
  {
   "cell_type": "code",
   "execution_count": null,
   "id": "a4fc74a8-b32e-45da-9cc1-f56db234b7f2",
   "metadata": {
    "scrolled": true
   },
   "outputs": [],
   "source": [
    "run_and_visualize(model, steps=5)"
   ]
  }
 ],
 "metadata": {
  "kernelspec": {
   "display_name": "Python 3 (ipykernel)",
   "language": "python",
   "name": "python3"
  },
  "language_info": {
   "codemirror_mode": {
    "name": "ipython",
    "version": 3
   },
   "file_extension": ".py",
   "mimetype": "text/x-python",
   "name": "python",
   "nbconvert_exporter": "python",
   "pygments_lexer": "ipython3",
   "version": "3.11.7"
  }
 },
 "nbformat": 4,
 "nbformat_minor": 5
}
